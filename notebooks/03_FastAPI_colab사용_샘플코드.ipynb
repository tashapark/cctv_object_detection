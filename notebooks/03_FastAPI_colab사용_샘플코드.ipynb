{
 "cells": [
  {
   "cell_type": "code",
   "execution_count": 8,
   "metadata": {},
   "outputs": [
    {
     "name": "stdout",
     "output_type": "stream",
     "text": [
      "[main 1a7cc52] :tada: ) fastAPI\n",
      " 1 file changed, 403 insertions(+)\n",
      " create mode 100644 notebooks/03_FastAPI_colab사용_샘플코드.ipynb\n",
      "오브젝트 나열하는 중: 6, 완료.\n",
      "오브젝트 개수 세는 중: 100% (6/6), 완료.\n",
      "Delta compression using up to 8 threads\n",
      "오브젝트 압축하는 중: 100% (4/4), 완료.\n",
      "오브젝트 쓰는 중: 100% (4/4), 4.21 KiB | 4.21 MiB/s, 완료.\n",
      "Total 4 (delta 2), reused 0 (delta 0), pack-reused 0 (from 0)\n",
      "remote: Resolving deltas: 100% (2/2), completed with 2 local objects.\u001b[K\n",
      "To https://github.com/tashapark/cctv_object_detection.git\n",
      "   b84e5ec..1a7cc52  main -> main\n"
     ]
    }
   ],
   "source": [
    "!git add \"/Users/tasha/Desktop/comento/mywork/notebooks/03_FastAPI_colab사용_샘플코드.ipynb\"\n",
    "!git commit -m \":tada: ) fastAPI\" \n",
    "!git push origin main"
   ]
  },
  {
   "cell_type": "markdown",
   "metadata": {
    "id": "h00KmoOp9GSp"
   },
   "source": [
    "- fastapi는 무엇이고, 언제 사용을 하는지등 기본적인 이론도 같이 공부하면 좋을 것 같습니다.\n",
    "  - FastAPI , uvicorn , ..."
   ]
  },
  {
   "cell_type": "markdown",
   "metadata": {
    "id": "vrEoPB7rbhsW"
   },
   "source": [
    "### 01. 필요한 라이브러리 설치"
   ]
  },
  {
   "cell_type": "raw",
   "metadata": {
    "colab": {
     "background_save": true,
     "base_uri": "https://localhost:8080/"
    },
    "id": "-pgTUQ-gbkVs",
    "outputId": "dc55c2c6-af23-4790-e758-36cec875ebdc"
   },
   "source": [
    "!pip install FastAPI -q\n",
    "!pip install uvicorn -q\n",
    "!pip install torch\n",
    "!pip install python-multipart\n",
    "!pip install fastapi nest-asyncio pyngrok uvicorn\n"
   ]
  },
  {
   "cell_type": "markdown",
   "metadata": {
    "id": "OOa0k32abtEb"
   },
   "source": [
    "### 02. FastAPI 실행"
   ]
  },
  {
   "cell_type": "markdown",
   "metadata": {
    "id": "J0mVzUG-0g-V"
   },
   "source": [
    "- 학습때 설치했던 yolov5 폴더가 있는 경로로 이동해주세요."
   ]
  },
  {
   "cell_type": "code",
   "execution_count": 7,
   "metadata": {
    "colab": {
     "background_save": true,
     "base_uri": "https://localhost:8080/"
    },
    "id": "co6tfOuX0GEv",
    "outputId": "492e26f2-7cb2-4ff0-b5c5-566fd637d9a3"
   },
   "outputs": [
    {
     "name": "stdout",
     "output_type": "stream",
     "text": [
      "/Users/tasha/Desktop/comento/mywork/models/yolov5\n"
     ]
    }
   ],
   "source": [
    "cd /Users/tasha/Desktop/comento/mywork/models/yolov5"
   ]
  },
  {
   "cell_type": "markdown",
   "metadata": {
    "id": "3szjjy6PHdcC"
   },
   "source": [
    "- 학습한 모델을 로드해줍니다."
   ]
  },
  {
   "cell_type": "code",
   "execution_count": 8,
   "metadata": {
    "colab": {
     "base_uri": "https://localhost:8080/"
    },
    "id": "tt_9tmwOd4dZ",
    "outputId": "20809f2c-989b-46fa-fc51-bacfe6a5bec5"
   },
   "outputs": [
    {
     "name": "stderr",
     "output_type": "stream",
     "text": [
      "YOLOv5 🚀 v7.0-399-g8cc44963 Python-3.12.9 torch-2.6.0 CPU\n",
      "\n",
      "Fusing layers... \n",
      "YOLOv5s summary: 157 layers, 7012822 parameters, 0 gradients, 15.8 GFLOPs\n",
      "Adding AutoShape... \n"
     ]
    }
   ],
   "source": [
    "import os\n",
    "import torch\n",
    "import uvicorn\n",
    "import nest_asyncio\n",
    "\n",
    "from PIL import Image\n",
    "from io import BytesIO\n",
    "from pyngrok import ngrok\n",
    "from torchvision import transforms\n",
    "from fastapi import FastAPI, File, UploadFile\n",
    "\n",
    "# FastAPI 앱 생성\n",
    "app = FastAPI()\n",
    "\n",
    "# YOLOv5 모델 로드\n",
    "model = torch.hub.load('yolov5', 'custom', path='/Users/tasha/Desktop/comento/mywork/models/yolov5/yolov5/runs/train/yolov5s_batch64_epoch102/weights/best.pt', source='local')  # 학습한 모델의 경로를 'path'인자에 넣어주세요 (ex, 'yolov5/runs/train/yolov5s_results4/weights/best.pt')\n",
    "model.conf = 0.5  # 신뢰도 임계값 설정\n",
    "\n",
    "# ngrok 인증 토큰 설정\n",
    "#authtoken = \"...\" # 자신의 인증 토큰으로 변경하세요\n",
    "#ngrok.set_auth_token(authtoken)"
   ]
  },
  {
   "cell_type": "markdown",
   "metadata": {
    "editable": true,
    "id": "qVD6ykzkHhW0",
    "slideshow": {
     "slide_type": ""
    },
    "tags": []
   },
   "source": [
    "### fastapi 실행 함수 구현\n",
    "- Input : 이미지 경로\n",
    "- Output : 자유롭게 아이디어를 내서 결과를 출력시켜주세요.\n",
    "  - 차량 정체 문제를 파악하기 위한 값으로 출력해주세요.\n",
    "  - 예를 들어, 차량 개수 파악 / 차량 전체 면적 또는 비율 등 다양한 아이디어를 생각해서 구현해주세요."
   ]
  },
  {
   "cell_type": "code",
   "execution_count": 9,
   "metadata": {
    "colab": {
     "base_uri": "https://localhost:8080/"
    },
    "editable": true,
    "id": "4wDxrTcg0yZv",
    "outputId": "9f8c067d-0dd5-4d68-ed79-ebc862c17582",
    "slideshow": {
     "slide_type": ""
    },
    "tags": []
   },
   "outputs": [
    {
     "name": "stderr",
     "output_type": "stream",
     "text": [
      "INFO:     Started server process [55365]\n",
      "INFO:     Waiting for application startup.\n",
      "INFO:     Application startup complete.\n",
      "INFO:     Uvicorn running on http://0.0.0.0:8000 (Press CTRL+C to quit)\n"
     ]
    },
    {
     "name": "stdout",
     "output_type": "stream",
     "text": [
      "INFO:     127.0.0.1:56141 - \"GET / HTTP/1.1\" 404 Not Found\n",
      "INFO:     127.0.0.1:56142 - \"GET /docs HTTP/1.1\" 200 OK\n",
      "INFO:     127.0.0.1:56142 - \"GET /openapi.json HTTP/1.1\" 200 OK\n",
      "INFO:     127.0.0.1:56144 - \"POST /detect HTTP/1.1\" 200 OK\n"
     ]
    },
    {
     "name": "stderr",
     "output_type": "stream",
     "text": [
      "/Users/tasha/Desktop/comento/mywork/models/yolov5/yolov5/models/common.py:894: FutureWarning: `torch.cuda.amp.autocast(args...)` is deprecated. Please use `torch.amp.autocast('cuda', args...)` instead.\n",
      "  with amp.autocast(autocast):\n"
     ]
    },
    {
     "name": "stdout",
     "output_type": "stream",
     "text": [
      "INFO:     127.0.0.1:56203 - \"GET /detect HTTP/1.1\" 405 Method Not Allowed\n"
     ]
    }
   ],
   "source": [
    "import asyncio \n",
    "\n",
    "@app.post('/detect')\n",
    "async def detect_api(file: UploadFile = File(...)):\n",
    "    # 비동기적으로 파일 읽기\n",
    "    image_bytes = await file.read()\n",
    "\n",
    "    try:\n",
    "        # ✅ RGB 형태로 이미지 열기\n",
    "        image = Image.open(BytesIO(image_bytes)).convert(\"RGB\")\n",
    "\n",
    "        # ✅ YOLOv5 모델 추론\n",
    "        results = model(image)\n",
    "        df = results.pandas().xyxy[0]  # pandas DataFrame 변환\n",
    "\n",
    "        # ✅ 차량 개수 및 전체 면적 비율 계산\n",
    "        total_area = image.size[0] * image.size[1]  # 이미지 전체 면적\n",
    "        vehicle_area = 0  # 차량이 차지하는 면적\n",
    "\n",
    "        detections_list = []\n",
    "        for _, row in df.iterrows():\n",
    "            width = row['xmax'] - row['xmin']\n",
    "            height = row['ymax'] - row['ymin']\n",
    "            area = width * height\n",
    "            vehicle_area += area  # 차량 영역 합산\n",
    "\n",
    "            detections_list.append({\n",
    "                \"x1\": float(row['xmin']),\n",
    "                \"y1\": float(row['ymin']),\n",
    "                \"x2\": float(row['xmax']),\n",
    "                \"y2\": float(row['ymax']),\n",
    "                \"confidence\": float(row['confidence']),\n",
    "                \"class\": int(row['class']),\n",
    "                \"label\": row['name']\n",
    "            })\n",
    "\n",
    "        # ✅ 차량 정체 분석 지표 추가\n",
    "        congestion_info = {\n",
    "            \"total_vehicles\": len(detections_list),  # 감지된 차량 개수\n",
    "            \"vehicle_area_ratio\": vehicle_area / total_area  # 차량이 차지하는 면적 비율\n",
    "        }\n",
    "\n",
    "        return {\"detections\": detections_list, \"congestion_info\": congestion_info}\n",
    "\n",
    "    except Exception as e:\n",
    "        return {\"error\": \"이미지 처리 실패\", \"details\": str(e)}\n",
    "\n",
    "# ✅ Jupyter Notebook & IPython 환경에서도 실행 가능하도록 수정\n",
    "def run_server():\n",
    "    config = uvicorn.Config(app, host=\"0.0.0.0\", port=8000, log_level=\"info\")\n",
    "    server = uvicorn.Server(config)\n",
    "    asyncio.create_task(server.serve())\n",
    "\n",
    "if __name__ == \"__main__\":\n",
    "    run_server()\n",
    "\n",
    "# 아래 주소로 해야 api들어감 \n",
    "#http://0.0.0.0:8000/docs"
   ]
  },
  {
   "cell_type": "code",
   "execution_count": null,
   "metadata": {
    "editable": true,
    "id": "yvECP2wo6wZD",
    "slideshow": {
     "slide_type": ""
    },
    "tags": []
   },
   "outputs": [],
   "source": [
    "import torch\n",
    "\n",
    "print(\"PyTorch MPS 지원 여부:\", torch.backends.mps.is_available())\n",
    "print(\"현재 사용 중인 디바이스:\", torch.device(\"mps\") if torch.backends.mps.is_available() else \"CPU\")\n"
   ]
  },
  {
   "cell_type": "markdown",
   "metadata": {},
   "source": [
    "### 03. streamlit"
   ]
  },
  {
   "cell_type": "code",
   "execution_count": null,
   "metadata": {},
   "outputs": [],
   "source": [
    "# 설치 \n",
    "#!pip install streamlit"
   ]
  },
  {
   "cell_type": "markdown",
   "metadata": {},
   "source": [
    "#### 스트림릿 확인 "
   ]
  },
  {
   "cell_type": "code",
   "execution_count": 10,
   "metadata": {
    "editable": true,
    "slideshow": {
     "slide_type": ""
    },
    "tags": []
   },
   "outputs": [
    {
     "name": "stderr",
     "output_type": "stream",
     "text": [
      "2025-03-26 22:03:22.361 Thread 'MainThread': missing ScriptRunContext! This warning can be ignored when running in bare mode.\n",
      "2025-03-26 22:03:22.363 Thread 'MainThread': missing ScriptRunContext! This warning can be ignored when running in bare mode.\n",
      "2025-03-26 22:03:22.363 Thread 'MainThread': missing ScriptRunContext! This warning can be ignored when running in bare mode.\n",
      "2025-03-26 22:03:22.364 Thread 'MainThread': missing ScriptRunContext! This warning can be ignored when running in bare mode.\n",
      "2025-03-26 22:03:22.364 Thread 'MainThread': missing ScriptRunContext! This warning can be ignored when running in bare mode.\n",
      "2025-03-26 22:03:22.365 Thread 'MainThread': missing ScriptRunContext! This warning can be ignored when running in bare mode.\n",
      "2025-03-26 22:03:22.365 Thread 'MainThread': missing ScriptRunContext! This warning can be ignored when running in bare mode.\n",
      "2025-03-26 22:03:22.366 Thread 'MainThread': missing ScriptRunContext! This warning can be ignored when running in bare mode.\n",
      "2025-03-26 22:03:22.366 Thread 'MainThread': missing ScriptRunContext! This warning can be ignored when running in bare mode.\n",
      "2025-03-26 22:03:22.367 Thread 'MainThread': missing ScriptRunContext! This warning can be ignored when running in bare mode.\n",
      "2025-03-26 22:03:22.367 Thread 'MainThread': missing ScriptRunContext! This warning can be ignored when running in bare mode.\n"
     ]
    }
   ],
   "source": [
    "import streamlit as st\n",
    "import requests\n",
    "import io\n",
    "import PIL.Image as Image\n",
    "\n",
    "# FastAPI 서버 주소\n",
    "FASTAPI_URL = \"http://127.0.0.1:8000/detect\"  # FastAPI 서버 주소 확인\n",
    "\n",
    "st.title(\"🚗 차량 탐지 결과 보기\")\n",
    "st.write(\"이미지를 업로드하면 차량 탐지 결과를 확인할 수 있습니다.\")\n",
    "\n",
    "# 이미지 업로드\n",
    "uploaded_file = st.file_uploader(\"이미지를 업로드하세요\", type=[\"jpg\", \"jpeg\", \"png\"])\n",
    "\n",
    "if uploaded_file is not None:\n",
    "    # 이미지 표시\n",
    "    image = Image.open(uploaded_file)\n",
    "    st.image(image, caption=\"업로드한 이미지\", use_column_width=True)\n",
    "\n",
    "    # FastAPI 서버로 이미지 전송\n",
    "    files = {\"file\": uploaded_file.getvalue()}\n",
    "    response = requests.post(FASTAPI_URL, files=files)\n",
    "\n",
    "    # 결과 출력\n",
    "    if response.status_code == 200:\n",
    "        result = response.json()\n",
    "        st.write(\"### 📌 탐지된 차량 정보:\")\n",
    "        for detection in result[\"detections\"]:\n",
    "            st.write(f\"🚘 차량 탐지: 좌표 ({detection['x1']}, {detection['y1']}) - ({detection['x2']}, {detection['y2']}), 신뢰도 {detection['confidence']:.2f}\")\n",
    "    else:\n",
    "        st.error(\"❌ 탐지 실패! FastAPI 서버를 확인하세요.\")\n"
   ]
  },
  {
   "cell_type": "code",
   "execution_count": 11,
   "metadata": {},
   "outputs": [
    {
     "name": "stdout",
     "output_type": "stream",
     "text": [
      "Usage: streamlit run [OPTIONS] TARGET [ARGS]...\n",
      "Try 'streamlit run --help' for help.\n",
      "\n",
      "Error: Invalid value: File does not exist: app.py\n"
     ]
    }
   ],
   "source": [
    "!streamlit run app.py"
   ]
  },
  {
   "cell_type": "code",
   "execution_count": null,
   "metadata": {},
   "outputs": [],
   "source": []
  }
 ],
 "metadata": {
  "accelerator": "GPU",
  "colab": {
   "gpuType": "T4",
   "provenance": []
  },
  "kernelspec": {
   "display_name": "comentoenv (Jupyter)",
   "language": "python",
   "name": "comentoenv"
  },
  "language_info": {
   "codemirror_mode": {
    "name": "ipython",
    "version": 3
   },
   "file_extension": ".py",
   "mimetype": "text/x-python",
   "name": "python",
   "nbconvert_exporter": "python",
   "pygments_lexer": "ipython3",
   "version": "3.12.9"
  }
 },
 "nbformat": 4,
 "nbformat_minor": 4
}
