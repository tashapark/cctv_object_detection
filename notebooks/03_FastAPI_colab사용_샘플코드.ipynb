{
 "cells": [
  {
   "cell_type": "markdown",
   "metadata": {
    "id": "h00KmoOp9GSp"
   },
   "source": [
    "- fastapi는 무엇이고, 언제 사용을 하는지등 기본적인 이론도 같이 공부하면 좋을 것 같습니다.\n",
    "  - FastAPI , uvicorn , ..."
   ]
  },
  {
   "cell_type": "markdown",
   "metadata": {
    "id": "vrEoPB7rbhsW"
   },
   "source": [
    "### 01. 필요한 라이브러리 설치"
   ]
  },
  {
   "cell_type": "code",
   "execution_count": 1,
   "metadata": {
    "colab": {
     "background_save": true,
     "base_uri": "https://localhost:8080/"
    },
    "id": "-pgTUQ-gbkVs",
    "outputId": "dc55c2c6-af23-4790-e758-36cec875ebdc"
   },
   "outputs": [
    {
     "name": "stdout",
     "output_type": "stream",
     "text": [
      "Requirement already satisfied: torch in /opt/anaconda3/envs/comentoenv/lib/python3.12/site-packages (2.6.0)\n",
      "Requirement already satisfied: filelock in /opt/anaconda3/envs/comentoenv/lib/python3.12/site-packages (from torch) (3.18.0)\n",
      "Requirement already satisfied: typing-extensions>=4.10.0 in /opt/anaconda3/envs/comentoenv/lib/python3.12/site-packages (from torch) (4.12.2)\n",
      "Requirement already satisfied: networkx in /opt/anaconda3/envs/comentoenv/lib/python3.12/site-packages (from torch) (3.4.2)\n",
      "Requirement already satisfied: jinja2 in /opt/anaconda3/envs/comentoenv/lib/python3.12/site-packages (from torch) (3.1.6)\n",
      "Requirement already satisfied: fsspec in /opt/anaconda3/envs/comentoenv/lib/python3.12/site-packages (from torch) (2025.3.0)\n",
      "Requirement already satisfied: setuptools in /opt/anaconda3/envs/comentoenv/lib/python3.12/site-packages (from torch) (75.8.0)\n",
      "Requirement already satisfied: sympy==1.13.1 in /opt/anaconda3/envs/comentoenv/lib/python3.12/site-packages (from torch) (1.13.1)\n",
      "Requirement already satisfied: mpmath<1.4,>=1.1.0 in /opt/anaconda3/envs/comentoenv/lib/python3.12/site-packages (from sympy==1.13.1->torch) (1.3.0)\n",
      "Requirement already satisfied: MarkupSafe>=2.0 in /opt/anaconda3/envs/comentoenv/lib/python3.12/site-packages (from jinja2->torch) (3.0.2)\n",
      "Collecting python-multipart\n",
      "  Downloading python_multipart-0.0.20-py3-none-any.whl.metadata (1.8 kB)\n",
      "Downloading python_multipart-0.0.20-py3-none-any.whl (24 kB)\n",
      "Installing collected packages: python-multipart\n",
      "Successfully installed python-multipart-0.0.20\n",
      "Requirement already satisfied: fastapi in /opt/anaconda3/envs/comentoenv/lib/python3.12/site-packages (0.115.12)\n",
      "Requirement already satisfied: nest-asyncio in /opt/anaconda3/envs/comentoenv/lib/python3.12/site-packages (1.6.0)\n",
      "Collecting pyngrok\n",
      "  Downloading pyngrok-7.2.3-py3-none-any.whl.metadata (8.7 kB)\n",
      "Requirement already satisfied: uvicorn in /opt/anaconda3/envs/comentoenv/lib/python3.12/site-packages (0.34.0)\n",
      "Requirement already satisfied: starlette<0.47.0,>=0.40.0 in /opt/anaconda3/envs/comentoenv/lib/python3.12/site-packages (from fastapi) (0.46.1)\n",
      "Requirement already satisfied: pydantic!=1.8,!=1.8.1,!=2.0.0,!=2.0.1,!=2.1.0,<3.0.0,>=1.7.4 in /opt/anaconda3/envs/comentoenv/lib/python3.12/site-packages (from fastapi) (2.10.6)\n",
      "Requirement already satisfied: typing-extensions>=4.8.0 in /opt/anaconda3/envs/comentoenv/lib/python3.12/site-packages (from fastapi) (4.12.2)\n",
      "Requirement already satisfied: PyYAML>=5.1 in /opt/anaconda3/envs/comentoenv/lib/python3.12/site-packages (from pyngrok) (6.0.2)\n",
      "Requirement already satisfied: click>=7.0 in /opt/anaconda3/envs/comentoenv/lib/python3.12/site-packages (from uvicorn) (8.1.8)\n",
      "Requirement already satisfied: h11>=0.8 in /opt/anaconda3/envs/comentoenv/lib/python3.12/site-packages (from uvicorn) (0.14.0)\n",
      "Requirement already satisfied: annotated-types>=0.6.0 in /opt/anaconda3/envs/comentoenv/lib/python3.12/site-packages (from pydantic!=1.8,!=1.8.1,!=2.0.0,!=2.0.1,!=2.1.0,<3.0.0,>=1.7.4->fastapi) (0.7.0)\n",
      "Requirement already satisfied: pydantic-core==2.27.2 in /opt/anaconda3/envs/comentoenv/lib/python3.12/site-packages (from pydantic!=1.8,!=1.8.1,!=2.0.0,!=2.0.1,!=2.1.0,<3.0.0,>=1.7.4->fastapi) (2.27.2)\n",
      "Requirement already satisfied: anyio<5,>=3.6.2 in /opt/anaconda3/envs/comentoenv/lib/python3.12/site-packages (from starlette<0.47.0,>=0.40.0->fastapi) (4.6.2)\n",
      "Requirement already satisfied: idna>=2.8 in /opt/anaconda3/envs/comentoenv/lib/python3.12/site-packages (from anyio<5,>=3.6.2->starlette<0.47.0,>=0.40.0->fastapi) (3.7)\n",
      "Requirement already satisfied: sniffio>=1.1 in /opt/anaconda3/envs/comentoenv/lib/python3.12/site-packages (from anyio<5,>=3.6.2->starlette<0.47.0,>=0.40.0->fastapi) (1.3.0)\n",
      "Downloading pyngrok-7.2.3-py3-none-any.whl (23 kB)\n",
      "Installing collected packages: pyngrok\n",
      "Successfully installed pyngrok-7.2.3\n"
     ]
    }
   ],
   "source": [
    "!pip install FastAPI -q\n",
    "!pip install uvicorn -q\n",
    "!pip install torch\n",
    "!pip install python-multipart\n",
    "!pip install fastapi nest-asyncio pyngrok uvicorn\n"
   ]
  },
  {
   "cell_type": "markdown",
   "metadata": {
    "id": "OOa0k32abtEb"
   },
   "source": [
    "### 02. FastAPI 실행"
   ]
  },
  {
   "cell_type": "markdown",
   "metadata": {
    "id": "J0mVzUG-0g-V"
   },
   "source": [
    "- 학습때 설치했던 yolov5 폴더가 있는 경로로 이동해주세요."
   ]
  },
  {
   "cell_type": "code",
   "execution_count": 2,
   "metadata": {
    "colab": {
     "background_save": true,
     "base_uri": "https://localhost:8080/"
    },
    "id": "co6tfOuX0GEv",
    "outputId": "492e26f2-7cb2-4ff0-b5c5-566fd637d9a3"
   },
   "outputs": [
    {
     "name": "stdout",
     "output_type": "stream",
     "text": [
      "/Users/tasha/Desktop/comento/mywork/models/yolov5\n"
     ]
    }
   ],
   "source": [
    "cd /Users/tasha/Desktop/comento/mywork/models/yolov5"
   ]
  },
  {
   "cell_type": "markdown",
   "metadata": {
    "id": "3szjjy6PHdcC"
   },
   "source": [
    "- 학습한 모델을 로드해줍니다."
   ]
  },
  {
   "cell_type": "code",
   "execution_count": 3,
   "metadata": {
    "colab": {
     "base_uri": "https://localhost:8080/"
    },
    "id": "tt_9tmwOd4dZ",
    "outputId": "20809f2c-989b-46fa-fc51-bacfe6a5bec5"
   },
   "outputs": [
    {
     "name": "stderr",
     "output_type": "stream",
     "text": [
      "YOLOv5 🚀 v7.0-399-g8cc44963 Python-3.12.9 torch-2.6.0 CPU\n",
      "\n",
      "Fusing layers... \n",
      "YOLOv5s summary: 157 layers, 7012822 parameters, 0 gradients, 15.8 GFLOPs\n",
      "Adding AutoShape... \n"
     ]
    }
   ],
   "source": [
    "import os\n",
    "import torch\n",
    "import uvicorn\n",
    "import nest_asyncio\n",
    "\n",
    "from PIL import Image\n",
    "from io import BytesIO\n",
    "from pyngrok import ngrok\n",
    "from torchvision import transforms\n",
    "from fastapi import FastAPI, File, UploadFile\n",
    "\n",
    "# FastAPI 앱 생성\n",
    "app = FastAPI()\n",
    "\n",
    "# YOLOv5 모델 로드\n",
    "model = torch.hub.load('yolov5', 'custom', path='/Users/tasha/Desktop/comento/mywork/models/yolov5/yolov5/runs/train/yolov5s_batch64_epoch102/weights/best.pt', source='local')  # 학습한 모델의 경로를 'path'인자에 넣어주세요 (ex, 'yolov5/runs/train/yolov5s_results4/weights/best.pt')\n",
    "model.conf = 0.5  # 신뢰도 임계값 설정\n",
    "\n",
    "# ngrok 인증 토큰 설정\n",
    "#authtoken = \"...\" # 자신의 인증 토큰으로 변경하세요\n",
    "#ngrok.set_auth_token(authtoken)"
   ]
  },
  {
   "cell_type": "markdown",
   "metadata": {
    "id": "qVD6ykzkHhW0"
   },
   "source": [
    "### fastapi 실행 함수 구현\n",
    "- Input : 이미지 경로\n",
    "- Output : 자유롭게 아이디어를 내서 결과를 출력시켜주세요.\n",
    "  - 차량 정체 문제를 파악하기 위한 값으로 출력해주세요.\n",
    "  - 예를 들어, 차량 개수 파악 / 차량 전체 면적 또는 비율 등 다양한 아이디어를 생각해서 구현해주세요."
   ]
  },
  {
   "cell_type": "code",
   "execution_count": 6,
   "metadata": {
    "colab": {
     "base_uri": "https://localhost:8080/"
    },
    "editable": true,
    "id": "4wDxrTcg0yZv",
    "outputId": "9f8c067d-0dd5-4d68-ed79-ebc862c17582",
    "slideshow": {
     "slide_type": ""
    },
    "tags": []
   },
   "outputs": [
    {
     "name": "stderr",
     "output_type": "stream",
     "text": [
      "INFO:     Started server process [48768]\n",
      "INFO:     Waiting for application startup.\n",
      "INFO:     Application startup complete.\n",
      "INFO:     Uvicorn running on http://0.0.0.0:8000 (Press CTRL+C to quit)\n"
     ]
    },
    {
     "name": "stdout",
     "output_type": "stream",
     "text": [
      "INFO:     127.0.0.1:54617 - \"GET / HTTP/1.1\" 404 Not Found\n",
      "INFO:     127.0.0.1:54617 - \"GET /favicon.ico HTTP/1.1\" 404 Not Found\n",
      "INFO:     127.0.0.1:54626 - \"GET /docs HTTP/1.1\" 200 OK\n",
      "INFO:     127.0.0.1:54626 - \"GET /openapi.json HTTP/1.1\" 200 OK\n",
      "INFO:     127.0.0.1:54627 - \"GET / HTTP/1.1\" 404 Not Found\n",
      "INFO:     127.0.0.1:54627 - \"GET /favicon.ico HTTP/1.1\" 404 Not Found\n",
      "INFO:     127.0.0.1:54658 - \"GET /openapi.json HTTP/1.1\" 200 OK\n",
      "INFO:     127.0.0.1:55123 - \"POST /detect HTTP/1.1\" 200 OK\n"
     ]
    },
    {
     "name": "stderr",
     "output_type": "stream",
     "text": [
      "/Users/tasha/Desktop/comento/mywork/models/yolov5/yolov5/models/common.py:894: FutureWarning: `torch.cuda.amp.autocast(args...)` is deprecated. Please use `torch.amp.autocast('cuda', args...)` instead.\n",
      "  with amp.autocast(autocast):\n"
     ]
    },
    {
     "name": "stdout",
     "output_type": "stream",
     "text": [
      "INFO:     127.0.0.1:55130 - \"POST /detect HTTP/1.1\" 200 OK\n"
     ]
    },
    {
     "name": "stderr",
     "output_type": "stream",
     "text": [
      "/Users/tasha/Desktop/comento/mywork/models/yolov5/yolov5/models/common.py:894: FutureWarning: `torch.cuda.amp.autocast(args...)` is deprecated. Please use `torch.amp.autocast('cuda', args...)` instead.\n",
      "  with amp.autocast(autocast):\n"
     ]
    },
    {
     "name": "stdout",
     "output_type": "stream",
     "text": [
      "INFO:     127.0.0.1:55131 - \"POST /detect HTTP/1.1\" 200 OK\n"
     ]
    },
    {
     "name": "stderr",
     "output_type": "stream",
     "text": [
      "/Users/tasha/Desktop/comento/mywork/models/yolov5/yolov5/models/common.py:894: FutureWarning: `torch.cuda.amp.autocast(args...)` is deprecated. Please use `torch.amp.autocast('cuda', args...)` instead.\n",
      "  with amp.autocast(autocast):\n"
     ]
    },
    {
     "name": "stdout",
     "output_type": "stream",
     "text": [
      "INFO:     127.0.0.1:55132 - \"POST /detect HTTP/1.1\" 200 OK\n"
     ]
    },
    {
     "name": "stderr",
     "output_type": "stream",
     "text": [
      "/Users/tasha/Desktop/comento/mywork/models/yolov5/yolov5/models/common.py:894: FutureWarning: `torch.cuda.amp.autocast(args...)` is deprecated. Please use `torch.amp.autocast('cuda', args...)` instead.\n",
      "  with amp.autocast(autocast):\n"
     ]
    }
   ],
   "source": [
    "import asyncio \n",
    "\n",
    "@app.post('/detect')\n",
    "async def detect_api(file: UploadFile = File(...)):\n",
    "    # 비동기적으로 파일 읽기\n",
    "    image_bytes = await file.read()\n",
    "\n",
    "    try:\n",
    "        # ✅ RGB 형태로 이미지 열기\n",
    "        image = Image.open(BytesIO(image_bytes)).convert(\"RGB\")\n",
    "\n",
    "        # ✅ YOLOv5 모델 추론\n",
    "        results = model(image)\n",
    "        df = results.pandas().xyxy[0]  # pandas DataFrame 변환\n",
    "\n",
    "        # ✅ 차량 개수 및 전체 면적 비율 계산\n",
    "        total_area = image.size[0] * image.size[1]  # 이미지 전체 면적\n",
    "        vehicle_area = 0  # 차량이 차지하는 면적\n",
    "\n",
    "        detections_list = []\n",
    "        for _, row in df.iterrows():\n",
    "            width = row['xmax'] - row['xmin']\n",
    "            height = row['ymax'] - row['ymin']\n",
    "            area = width * height\n",
    "            vehicle_area += area  # 차량 영역 합산\n",
    "\n",
    "            detections_list.append({\n",
    "                \"x1\": float(row['xmin']),\n",
    "                \"y1\": float(row['ymin']),\n",
    "                \"x2\": float(row['xmax']),\n",
    "                \"y2\": float(row['ymax']),\n",
    "                \"confidence\": float(row['confidence']),\n",
    "                \"class\": int(row['class']),\n",
    "                \"label\": row['name']\n",
    "            })\n",
    "\n",
    "        # ✅ 차량 정체 분석 지표 추가\n",
    "        congestion_info = {\n",
    "            \"total_vehicles\": len(detections_list),  # 감지된 차량 개수\n",
    "            \"vehicle_area_ratio\": vehicle_area / total_area  # 차량이 차지하는 면적 비율\n",
    "        }\n",
    "\n",
    "        return {\"detections\": detections_list, \"congestion_info\": congestion_info}\n",
    "\n",
    "    except Exception as e:\n",
    "        return {\"error\": \"이미지 처리 실패\", \"details\": str(e)}\n",
    "\n",
    "# ✅ Jupyter Notebook & IPython 환경에서도 실행 가능하도록 수정\n",
    "def run_server():\n",
    "    config = uvicorn.Config(app, host=\"0.0.0.0\", port=8000, log_level=\"info\")\n",
    "    server = uvicorn.Server(config)\n",
    "    asyncio.create_task(server.serve())\n",
    "\n",
    "if __name__ == \"__main__\":\n",
    "    run_server()\n"
   ]
  },
  {
   "cell_type": "code",
   "execution_count": 7,
   "metadata": {
    "id": "yvECP2wo6wZD"
   },
   "outputs": [
    {
     "name": "stdout",
     "output_type": "stream",
     "text": [
      "PyTorch MPS 지원 여부: True\n",
      "현재 사용 중인 디바이스: mps\n"
     ]
    }
   ],
   "source": [
    "import torch\n",
    "\n",
    "print(\"PyTorch MPS 지원 여부:\", torch.backends.mps.is_available())\n",
    "print(\"현재 사용 중인 디바이스:\", torch.device(\"mps\") if torch.backends.mps.is_available() else \"CPU\")\n"
   ]
  },
  {
   "cell_type": "code",
   "execution_count": null,
   "metadata": {},
   "outputs": [],
   "source": []
  }
 ],
 "metadata": {
  "accelerator": "GPU",
  "colab": {
   "gpuType": "T4",
   "provenance": []
  },
  "kernelspec": {
   "display_name": "Python 3 (ipykernel)",
   "language": "python",
   "name": "python3"
  },
  "language_info": {
   "codemirror_mode": {
    "name": "ipython",
    "version": 3
   },
   "file_extension": ".py",
   "mimetype": "text/x-python",
   "name": "python",
   "nbconvert_exporter": "python",
   "pygments_lexer": "ipython3",
   "version": "3.12.9"
  }
 },
 "nbformat": 4,
 "nbformat_minor": 4
}
