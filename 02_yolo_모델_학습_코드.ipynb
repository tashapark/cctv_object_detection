{
 "cells": [
  {
   "cell_type": "markdown",
   "metadata": {
    "id": "-sTm6_SJb8u2"
   },
   "source": [
    "### colab runtime 변경\n",
    "- 코랩 런타임을 T4 GPU로 변경해주세요.\n",
    "- 무료 버전 코랩을 사용할 경우, 하루 할당된 GPU가 제한되어 있어서 학습을 진행하다가 런타임이 끊길 수 있습니다.\n",
    "- 로컬에 파이썬 설치가 가능하다면 로컬에서 진행하는 것을 추천드립니다.\n",
    "- 로컬에서 진행할 경우엔 conda를 활용하여 가상환경을 세팅해주세요."
   ]
  },
  {
   "cell_type": "markdown",
   "metadata": {
    "id": "X50ECtbFPUmk"
   },
   "source": [
    "### mount google drive\n",
    "- 코랩을 활용할 경우, 구글 드라이브에 있는 데이터를 사용하기 위해서 마운트 작업이 필요합니다.\n",
    "- 로컬에서 진행할 경우엔 생략해주세요."
   ]
  },
  {
   "cell_type": "raw",
   "metadata": {
    "colab": {
     "base_uri": "https://localhost:8080/"
    },
    "executionInfo": {
     "elapsed": 9494,
     "status": "ok",
     "timestamp": 1724886427241,
     "user": {
      "displayName": "ylee",
      "userId": "16373523088845791968"
     },
     "user_tz": -540
    },
    "id": "g81Tcy-OOLLR",
    "outputId": "964e312a-118d-49be-81cd-51b4b573317c"
   },
   "source": [
    "from google.colab import drive\n",
    "drive.mount('/content/drive')"
   ]
  },
  {
   "cell_type": "markdown",
   "metadata": {
    "id": "y9OdjWuKOQLH"
   },
   "source": [
    "### Import Libraray"
   ]
  },
  {
   "cell_type": "code",
   "execution_count": 3,
   "metadata": {
    "id": "Dud9VZIaQ8Ki"
   },
   "outputs": [],
   "source": [
    "import os\n",
    "import cv2\n",
    "import glob\n",
    "import shutil\n",
    "import warnings\n",
    "import matplotlib.pyplot as plt\n",
    "\n",
    "from tqdm.auto import tqdm\n",
    "from sklearn.model_selection import train_test_split"
   ]
  },
  {
   "cell_type": "code",
   "execution_count": null,
   "metadata": {},
   "outputs": [],
   "source": [
    "#!pip install --upgrade jupyter ipywidgets"
   ]
  },
  {
   "cell_type": "code",
   "execution_count": 4,
   "metadata": {
    "id": "aQC9EsnhOVG5"
   },
   "outputs": [],
   "source": [
    "warnings.filterwarnings(action='ignore')"
   ]
  },
  {
   "cell_type": "code",
   "execution_count": 5,
   "metadata": {
    "colab": {
     "base_uri": "https://localhost:8080/",
     "height": 36
    },
    "executionInfo": {
     "elapsed": 5,
     "status": "ok",
     "timestamp": 1724886433158,
     "user": {
      "displayName": "ylee",
      "userId": "16373523088845791968"
     },
     "user_tz": -540
    },
    "id": "EJ9IzX7nPORm",
    "outputId": "113320e6-6648-435b-d9f6-02c262b128ca"
   },
   "outputs": [
    {
     "data": {
      "text/plain": [
       "'/Users/tasha/Desktop/comento/mywork'"
      ]
     },
     "execution_count": 5,
     "metadata": {},
     "output_type": "execute_result"
    }
   ],
   "source": [
    "# 현재 실행 파일 경로 확인\n",
    "os.getcwd()"
   ]
  },
  {
   "cell_type": "markdown",
   "metadata": {
    "id": "zeF0KqyJO4_2"
   },
   "source": [
    "### yolov5s 모델 설치 및 환경 설정"
   ]
  },
  {
   "cell_type": "markdown",
   "metadata": {
    "id": "2kd5fDOGIkr6"
   },
   "source": [
    "- 모델을 설치할 경로에 cd 명령어를 활용하여 들어가주세요"
   ]
  },
  {
   "cell_type": "code",
   "execution_count": 6,
   "metadata": {
    "colab": {
     "base_uri": "https://localhost:8080/"
    },
    "executionInfo": {
     "elapsed": 551,
     "status": "ok",
     "timestamp": 1724886436127,
     "user": {
      "displayName": "ylee",
      "userId": "16373523088845791968"
     },
     "user_tz": -540
    },
    "id": "j5LNenMg4E-s",
    "outputId": "ac5b6c1e-89c1-455f-966d-39953dd8c679"
   },
   "outputs": [
    {
     "ename": "SyntaxError",
     "evalue": "invalid syntax (3204165110.py, line 5)",
     "output_type": "error",
     "traceback": [
      "\u001b[0;36m  Cell \u001b[0;32mIn[6], line 5\u001b[0;36m\u001b[0m\n\u001b[0;31m    echo \"models/\" >> /Users/tasha/Desktop/comento/mywork/.gitignore\u001b[0m\n\u001b[0m         ^\u001b[0m\n\u001b[0;31mSyntaxError\u001b[0m\u001b[0;31m:\u001b[0m invalid syntax\n"
     ]
    }
   ],
   "source": [
    "# 폴더 생성\n",
    "mkdir -p /Users/tasha/Desktop/comento/mywork/models\n",
    "\n",
    "#git ignore 추가 \n",
    "echo \"models/\" >> /Users/tasha/Desktop/comento/mywork/.gitignore"
   ]
  },
  {
   "cell_type": "code",
   "execution_count": null,
   "metadata": {
    "colab": {
     "base_uri": "https://localhost:8080/"
    },
    "executionInfo": {
     "elapsed": 551,
     "status": "ok",
     "timestamp": 1724886436127,
     "user": {
      "displayName": "ylee",
      "userId": "16373523088845791968"
     },
     "user_tz": -540
    },
    "id": "j5LNenMg4E-s",
    "outputId": "ac5b6c1e-89c1-455f-966d-39953dd8c679"
   },
   "outputs": [
    {
     "name": "stdout",
     "output_type": "stream",
     "text": [
      "/content/drive/MyDrive/comento/1\n"
     ]
    }
   ],
   "source": [
    "cd /Users/tasha/Desktop/comento/mywork/models"
   ]
  },
  {
   "cell_type": "code",
   "execution_count": null,
   "metadata": {
    "id": "1TXr0JJlIySF"
   },
   "outputs": [],
   "source": [
    "# 현재 파일 경로 확인 (원하는 경로에 들어와있는지 확인)\n",
    "os.getcwd()"
   ]
  },
  {
   "cell_type": "code",
   "execution_count": null,
   "metadata": {
    "colab": {
     "base_uri": "https://localhost:8080/"
    },
    "executionInfo": {
     "elapsed": 4864,
     "status": "ok",
     "timestamp": 1724886468901,
     "user": {
      "displayName": "ylee",
      "userId": "16373523088845791968"
     },
     "user_tz": -540
    },
    "id": "to9IQkOFO9aZ",
    "outputId": "dbb3de9c-23f6-49ae-cc97-1c59d239f361"
   },
   "outputs": [
    {
     "name": "stdout",
     "output_type": "stream",
     "text": [
      "Cloning into 'yolov5'...\n",
      "remote: Enumerating objects: 16927, done.\u001b[K\n",
      "remote: Counting objects: 100% (122/122), done.\u001b[K\n",
      "remote: Compressing objects: 100% (74/74), done.\u001b[K\n",
      "remote: Total 16927 (delta 62), reused 87 (delta 48), pack-reused 16805 (from 1)\u001b[K\n",
      "Receiving objects: 100% (16927/16927), 15.68 MiB | 12.47 MiB/s, done.\n",
      "Resolving deltas: 100% (11600/11600), done.\n"
     ]
    }
   ],
   "source": [
    "# git clone을 통해 yolov5s 모델 설치\n",
    "!git clone https://github.com/ultralytics/yolov5.git"
   ]
  },
  {
   "cell_type": "markdown",
   "metadata": {
    "id": "LM3Vf-khPb2I"
   },
   "source": [
    "### yolov5s 전이학습\n",
    "- 전이학습을 진행할 때 사용되는 batch와 epoch에 대해서 정의도 같이 공부하면 좋을 것 같습니다.\n",
    "- 전이학습 후에 나오는 최종모델파일은 마지막줄에 출력되는 \"Results saved to yolov5/runs/train/yolov5s_results\" 에 저장됩니다."
   ]
  },
  {
   "cell_type": "code",
   "execution_count": null,
   "metadata": {
    "colab": {
     "base_uri": "https://localhost:8080/"
    },
    "executionInfo": {
     "elapsed": 3946,
     "status": "ok",
     "timestamp": 1724886701543,
     "user": {
      "displayName": "ylee",
      "userId": "16373523088845791968"
     },
     "user_tz": -540
    },
    "id": "r3coYTJia31f",
    "outputId": "cbdc4c30-787a-465e-e526-54d1170e5ffb"
   },
   "outputs": [
    {
     "name": "stdout",
     "output_type": "stream",
     "text": [
      "Requirement already satisfied: Pillow in /usr/local/lib/python3.10/dist-packages (10.4.0)\n"
     ]
    }
   ],
   "source": [
    "!pip install --upgrade Pillow"
   ]
  },
  {
   "cell_type": "code",
   "execution_count": null,
   "metadata": {
    "colab": {
     "base_uri": "https://localhost:8080/"
    },
    "executionInfo": {
     "elapsed": 5205203,
     "status": "ok",
     "timestamp": 1724892286975,
     "user": {
      "displayName": "ylee",
      "userId": "16373523088845791968"
     },
     "user_tz": -540
    },
    "id": "cXHg9wTyQFz7",
    "outputId": "ba55bcfc-f175-4ed9-cc67-f2eccea8ec5d"
   },
   "outputs": [
    {
     "name": "stdout",
     "output_type": "stream",
     "text": [
      "2024-08-28 23:18:11.014125: E external/local_xla/xla/stream_executor/cuda/cuda_fft.cc:485] Unable to register cuFFT factory: Attempting to register factory for plugin cuFFT when one has already been registered\n",
      "2024-08-28 23:18:11.035458: E external/local_xla/xla/stream_executor/cuda/cuda_dnn.cc:8454] Unable to register cuDNN factory: Attempting to register factory for plugin cuDNN when one has already been registered\n",
      "2024-08-28 23:18:11.041442: E external/local_xla/xla/stream_executor/cuda/cuda_blas.cc:1452] Unable to register cuBLAS factory: Attempting to register factory for plugin cuBLAS when one has already been registered\n",
      "\u001b[34m\u001b[1mtrain: \u001b[0mweights=yolov5s.pt, cfg=yolov5/models/yolov5s.yaml, data=datasets_yolo/datasets.yaml, hyp=yolov5/data/hyps/hyp.scratch-low.yaml, epochs=10, batch_size=20, imgsz=224, rect=False, resume=False, nosave=False, noval=False, noautoanchor=False, noplots=False, evolve=None, evolve_population=yolov5/data/hyps, resume_evolve=None, bucket=, cache=None, image_weights=False, device=, multi_scale=False, single_cls=False, optimizer=SGD, sync_bn=False, workers=8, project=yolov5/runs/train, name=yolov5s_results, exist_ok=False, quad=False, cos_lr=False, label_smoothing=0.0, patience=100, freeze=[0], save_period=-1, seed=0, local_rank=-1, entity=None, upload_dataset=False, bbox_interval=-1, artifact_alias=latest, ndjson_console=False, ndjson_file=False\n",
      "\u001b[34m\u001b[1mgithub: \u001b[0mup to date with https://github.com/ultralytics/yolov5 ✅\n",
      "fatal: cannot change to '/content/drive/My': No such file or directory\n",
      "YOLOv5 🚀 2024-8-28 Python-3.10.12 torch-2.4.0+cu121 CUDA:0 (Tesla T4, 15102MiB)\n",
      "\n",
      "\u001b[34m\u001b[1mhyperparameters: \u001b[0mlr0=0.01, lrf=0.01, momentum=0.937, weight_decay=0.0005, warmup_epochs=3.0, warmup_momentum=0.8, warmup_bias_lr=0.1, box=0.05, cls=0.5, cls_pw=1.0, obj=1.0, obj_pw=1.0, iou_t=0.2, anchor_t=4.0, fl_gamma=0.0, hsv_h=0.015, hsv_s=0.7, hsv_v=0.4, degrees=0.0, translate=0.1, scale=0.5, shear=0.0, perspective=0.0, flipud=0.0, fliplr=0.5, mosaic=1.0, mixup=0.0, copy_paste=0.0\n",
      "\u001b[34m\u001b[1mComet: \u001b[0mrun 'pip install comet_ml' to automatically track and visualize YOLOv5 🚀 runs in Comet\n",
      "\u001b[34m\u001b[1mTensorBoard: \u001b[0mStart with 'tensorboard --logdir yolov5/runs/train', view at http://localhost:6006/\n",
      "Overriding model.yaml nc=80 with nc=1\n",
      "\n",
      "                 from  n    params  module                                  arguments                     \n",
      "  0                -1  1      3520  models.common.Conv                      [3, 32, 6, 2, 2]              \n",
      "  1                -1  1     18560  models.common.Conv                      [32, 64, 3, 2]                \n",
      "  2                -1  1     18816  models.common.C3                        [64, 64, 1]                   \n",
      "  3                -1  1     73984  models.common.Conv                      [64, 128, 3, 2]               \n",
      "  4                -1  2    115712  models.common.C3                        [128, 128, 2]                 \n",
      "  5                -1  1    295424  models.common.Conv                      [128, 256, 3, 2]              \n",
      "  6                -1  3    625152  models.common.C3                        [256, 256, 3]                 \n",
      "  7                -1  1   1180672  models.common.Conv                      [256, 512, 3, 2]              \n",
      "  8                -1  1   1182720  models.common.C3                        [512, 512, 1]                 \n",
      "  9                -1  1    656896  models.common.SPPF                      [512, 512, 5]                 \n",
      " 10                -1  1    131584  models.common.Conv                      [512, 256, 1, 1]              \n",
      " 11                -1  1         0  torch.nn.modules.upsampling.Upsample    [None, 2, 'nearest']          \n",
      " 12           [-1, 6]  1         0  models.common.Concat                    [1]                           \n",
      " 13                -1  1    361984  models.common.C3                        [512, 256, 1, False]          \n",
      " 14                -1  1     33024  models.common.Conv                      [256, 128, 1, 1]              \n",
      " 15                -1  1         0  torch.nn.modules.upsampling.Upsample    [None, 2, 'nearest']          \n",
      " 16           [-1, 4]  1         0  models.common.Concat                    [1]                           \n",
      " 17                -1  1     90880  models.common.C3                        [256, 128, 1, False]          \n",
      " 18                -1  1    147712  models.common.Conv                      [128, 128, 3, 2]              \n",
      " 19          [-1, 14]  1         0  models.common.Concat                    [1]                           \n",
      " 20                -1  1    296448  models.common.C3                        [256, 256, 1, False]          \n",
      " 21                -1  1    590336  models.common.Conv                      [256, 256, 3, 2]              \n",
      " 22          [-1, 10]  1         0  models.common.Concat                    [1]                           \n",
      " 23                -1  1   1182720  models.common.C3                        [512, 512, 1, False]          \n",
      " 24      [17, 20, 23]  1     16182  models.yolo.Detect                      [1, [[10, 13, 16, 30, 33, 23], [30, 61, 62, 45, 59, 119], [116, 90, 156, 198, 373, 326]], [128, 256, 512]]\n",
      "YOLOv5s summary: 214 layers, 7022326 parameters, 7022326 gradients, 15.9 GFLOPs\n",
      "\n",
      "Transferred 342/349 items from yolov5s.pt\n",
      "/content/drive/My Drive/comento/1/yolov5/models/common.py:892: FutureWarning: `torch.cuda.amp.autocast(args...)` is deprecated. Please use `torch.amp.autocast('cuda', args...)` instead.\n",
      "  with amp.autocast(autocast):\n",
      "/content/drive/My Drive/comento/1/yolov5/models/common.py:892: FutureWarning: `torch.cuda.amp.autocast(args...)` is deprecated. Please use `torch.amp.autocast('cuda', args...)` instead.\n",
      "  with amp.autocast(autocast):\n",
      "\u001b[34m\u001b[1mAMP: \u001b[0mchecks passed ✅\n",
      "\u001b[34m\u001b[1moptimizer:\u001b[0m SGD(lr=0.01) with parameter groups 57 weight(decay=0.0), 60 weight(decay=0.00046875), 60 bias\n",
      "\u001b[34m\u001b[1malbumentations: \u001b[0mBlur(p=0.01, blur_limit=(3, 7)), MedianBlur(p=0.01, blur_limit=(3, 7)), ToGray(p=0.01), CLAHE(p=0.01, clip_limit=(1, 4.0), tile_grid_size=(8, 8))\n",
      "\u001b[34m\u001b[1mtrain: \u001b[0mScanning /content/drive/MyDrive/comento/1/datasets_yolo/labels/train.cache... 1276 images, 0 backgrounds, 0 corrupt: 100% 1276/1276 [00:00<?, ?it/s]\n",
      "/usr/lib/python3.10/multiprocessing/popen_fork.py:66: RuntimeWarning: os.fork() was called. os.fork() is incompatible with multithreaded code, and JAX is multithreaded, so this will likely lead to a deadlock.\n",
      "  self.pid = os.fork()\n",
      "\u001b[34m\u001b[1mval: \u001b[0mScanning /content/drive/MyDrive/comento/1/datasets_yolo/labels/val.cache... 399 images, 0 backgrounds, 0 corrupt: 100% 399/399 [00:00<?, ?it/s]\n",
      "\n",
      "\u001b[34m\u001b[1mAutoAnchor: \u001b[0m6.65 anchors/target, 1.000 Best Possible Recall (BPR). Current anchors are a good fit to dataset ✅\n",
      "Plotting labels to yolov5/runs/train/yolov5s_results4/labels.jpg... \n",
      "/content/drive/My Drive/comento/1/yolov5/train.py:355: FutureWarning: `torch.cuda.amp.GradScaler(args...)` is deprecated. Please use `torch.amp.GradScaler('cuda', args...)` instead.\n",
      "  scaler = torch.cuda.amp.GradScaler(enabled=amp)\n",
      "Image sizes 224 train, 224 val\n",
      "Using 2 dataloader workers\n",
      "Logging results to \u001b[1myolov5/runs/train/yolov5s_results4\u001b[0m\n",
      "Starting training for 10 epochs...\n",
      "\n",
      "      Epoch    GPU_mem   box_loss   obj_loss   cls_loss  Instances       Size\n",
      "        0/9      1.27G      0.101    0.03059          0         76        224: 100% 64/64 [11:54<00:00, 11.16s/it]\n",
      "                 Class     Images  Instances          P          R      mAP50   mAP50-95: 100% 10/10 [00:50<00:00,  5.04s/it]\n",
      "                   all        399       1072      0.199      0.768      0.217     0.0592\n",
      "\n",
      "      Epoch    GPU_mem   box_loss   obj_loss   cls_loss  Instances       Size\n",
      "        1/9      1.28G    0.06601    0.02372          0         83        224: 100% 64/64 [07:05<00:00,  6.65s/it]\n",
      "                 Class     Images  Instances          P          R      mAP50   mAP50-95: 100% 10/10 [00:51<00:00,  5.16s/it]\n",
      "                   all        399       1072      0.796      0.754      0.863      0.392\n",
      "\n",
      "      Epoch    GPU_mem   box_loss   obj_loss   cls_loss  Instances       Size\n",
      "        2/9      1.28G    0.05759    0.02197          0         87        224: 100% 64/64 [07:09<00:00,  6.71s/it]\n",
      "                 Class     Images  Instances          P          R      mAP50   mAP50-95: 100% 10/10 [00:50<00:00,  5.02s/it]\n",
      "                   all        399       1072      0.482      0.824       0.59      0.279\n",
      "\n",
      "      Epoch    GPU_mem   box_loss   obj_loss   cls_loss  Instances       Size\n",
      "        3/9      1.28G    0.04723    0.01934          0        104        224: 100% 64/64 [07:14<00:00,  6.79s/it]\n",
      "                 Class     Images  Instances          P          R      mAP50   mAP50-95: 100% 10/10 [00:46<00:00,  4.69s/it]\n",
      "                   all        399       1072      0.683      0.946      0.872      0.565\n",
      "\n",
      "      Epoch    GPU_mem   box_loss   obj_loss   cls_loss  Instances       Size\n",
      "        4/9      1.28G    0.04015    0.01745          0         95        224: 100% 64/64 [07:14<00:00,  6.78s/it]\n",
      "                 Class     Images  Instances          P          R      mAP50   mAP50-95: 100% 10/10 [00:46<00:00,  4.64s/it]\n",
      "                   all        399       1072      0.999          1      0.995      0.719\n",
      "\n",
      "      Epoch    GPU_mem   box_loss   obj_loss   cls_loss  Instances       Size\n",
      "        5/9      1.28G    0.03261    0.01561          0         93        224: 100% 64/64 [07:10<00:00,  6.72s/it]\n",
      "                 Class     Images  Instances          P          R      mAP50   mAP50-95: 100% 10/10 [00:49<00:00,  4.90s/it]\n",
      "                   all        399       1072      0.998          1      0.995      0.798\n",
      "\n",
      "      Epoch    GPU_mem   box_loss   obj_loss   cls_loss  Instances       Size\n",
      "        6/9      1.28G    0.02848    0.01408          0         96        224: 100% 64/64 [07:13<00:00,  6.77s/it]\n",
      "                 Class     Images  Instances          P          R      mAP50   mAP50-95: 100% 10/10 [00:49<00:00,  4.99s/it]\n",
      "                   all        399       1072          1          1      0.995      0.845\n",
      "\n",
      "      Epoch    GPU_mem   box_loss   obj_loss   cls_loss  Instances       Size\n",
      "        7/9      1.28G    0.02466    0.01306          0         95        224: 100% 64/64 [07:08<00:00,  6.69s/it]\n",
      "                 Class     Images  Instances          P          R      mAP50   mAP50-95: 100% 10/10 [00:51<00:00,  5.11s/it]\n",
      "                   all        399       1072          1          1      0.995      0.883\n",
      "\n",
      "      Epoch    GPU_mem   box_loss   obj_loss   cls_loss  Instances       Size\n",
      "        8/9      1.28G    0.02203    0.01238          0         90        224: 100% 64/64 [07:10<00:00,  6.73s/it]\n",
      "                 Class     Images  Instances          P          R      mAP50   mAP50-95: 100% 10/10 [00:47<00:00,  4.79s/it]\n",
      "                   all        399       1072          1          1      0.995      0.895\n",
      "\n",
      "      Epoch    GPU_mem   box_loss   obj_loss   cls_loss  Instances       Size\n",
      "        9/9      1.28G    0.01901    0.01132          0         87        224: 100% 64/64 [07:11<00:00,  6.75s/it]\n",
      "                 Class     Images  Instances          P          R      mAP50   mAP50-95: 100% 10/10 [00:47<00:00,  4.77s/it]\n",
      "                   all        399       1072          1          1      0.995        0.9\n",
      "\n",
      "10 epochs completed in 1.418 hours.\n",
      "Optimizer stripped from yolov5/runs/train/yolov5s_results4/weights/last.pt, 14.2MB\n",
      "Optimizer stripped from yolov5/runs/train/yolov5s_results4/weights/best.pt, 14.2MB\n",
      "\n",
      "Validating yolov5/runs/train/yolov5s_results4/weights/best.pt...\n",
      "Fusing layers... \n",
      "YOLOv5s summary: 157 layers, 7012822 parameters, 0 gradients, 15.8 GFLOPs\n",
      "                 Class     Images  Instances          P          R      mAP50   mAP50-95: 100% 10/10 [00:37<00:00,  3.74s/it]\n",
      "                   all        399       1072          1          1      0.995        0.9\n",
      "Results saved to \u001b[1myolov5/runs/train/yolov5s_results4\u001b[0m\n",
      "5204.7220502949995\n"
     ]
    }
   ],
   "source": [
    "import timeit\n",
    "start = timeit.default_timer()\n",
    "\n",
    "!python yolov5/train.py --img 224 --batch 20 --epochs 10 --data datasets_yolo/datasets.yaml --cfg yolov5/models/yolov5s.yaml --weights yolov5s.pt --name yolov5s_results\n",
    "\n",
    "end = timeit.default_timer()\n",
    "print(end-start)"
   ]
  },
  {
   "cell_type": "markdown",
   "metadata": {
    "id": "hg3ZKt06QKW4"
   },
   "source": [
    "### 전이학습 결과 확인\n",
    "- 1주차 과제에서 생성한 testdataset을 기반으로 모델 성능을 평가합니다."
   ]
  },
  {
   "cell_type": "code",
   "execution_count": null,
   "metadata": {
    "colab": {
     "base_uri": "https://localhost:8080/"
    },
    "executionInfo": {
     "elapsed": 59700,
     "status": "ok",
     "timestamp": 1724892735403,
     "user": {
      "displayName": "ylee",
      "userId": "16373523088845791968"
     },
     "user_tz": -540
    },
    "id": "yCbzS6c0QHnH",
    "outputId": "6ad94888-c335-4188-9666-17e96f92b4c9"
   },
   "outputs": [
    {
     "name": "stdout",
     "output_type": "stream",
     "text": [
      "\u001b[34m\u001b[1mval: \u001b[0mdata=datasets_yolo/datasets.yaml, weights=['yolov5/runs/train/yolov5s_results4/weights/best.pt'], batch_size=60, imgsz=224, conf_thres=0.001, iou_thres=0.6, max_det=300, task=val, device=, workers=8, single_cls=False, augment=False, verbose=False, save_txt=False, save_hybrid=False, save_conf=False, save_json=False, project=yolov5/runs/val, name=exp, exist_ok=False, half=False, dnn=False\n",
      "YOLOv5 🚀 v7.0-362-ge8a30cf8 Python-3.10.12 torch-2.4.0+cu121 CUDA:0 (Tesla T4, 15102MiB)\n",
      "\n",
      "Fusing layers... \n",
      "YOLOv5s summary: 157 layers, 7012822 parameters, 0 gradients, 15.8 GFLOPs\n",
      "\u001b[34m\u001b[1mval: \u001b[0mScanning /content/drive/MyDrive/comento/1/datasets_yolo/labels/val.cache... 399 images, 0 backgrounds, 0 corrupt: 100% 399/399 [00:00<?, ?it/s]\n",
      "                 Class     Images  Instances          P          R      mAP50   mAP50-95: 100% 7/7 [00:43<00:00,  6.21s/it]\n",
      "                   all        399       1072          1          1      0.995      0.901\n",
      "Speed: 0.0ms pre-process, 1.1ms inference, 7.3ms NMS per image at shape (60, 3, 224, 224)\n",
      "Results saved to \u001b[1myolov5/runs/val/exp3\u001b[0m\n"
     ]
    }
   ],
   "source": [
    "!python yolov5/val.py --img 224 --batch 60 --data datasets_yolo/datasets.yaml --weights yolov5/runs/train/yolov5s_results/weights/best.pt"
   ]
  },
  {
   "cell_type": "markdown",
   "metadata": {
    "id": "K0eBwMZEQQ4X"
   },
   "source": [
    "### 추론(inference) 진행\n",
    "- 학습에 사용되지 않은 이미지를 한 장씩 넣어서 추론 결과 확인해보기\n",
    "- 추론 속도와 추론 결과 이미지 확인"
   ]
  },
  {
   "cell_type": "code",
   "execution_count": null,
   "metadata": {
    "id": "T_uu1yZboWiR"
   },
   "outputs": [],
   "source": [
    "# 필요할 경우 설치\n",
    "# !pip install ultralytics"
   ]
  },
  {
   "cell_type": "code",
   "execution_count": null,
   "metadata": {
    "id": "Zci_hgY_erxa"
   },
   "outputs": [],
   "source": [
    "import torch\n",
    "from PIL import Image\n",
    "import matplotlib.pyplot as plt"
   ]
  },
  {
   "cell_type": "code",
   "execution_count": null,
   "metadata": {
    "colab": {
     "base_uri": "https://localhost:8080/"
    },
    "executionInfo": {
     "elapsed": 539,
     "status": "ok",
     "timestamp": 1724894811764,
     "user": {
      "displayName": "ylee",
      "userId": "16373523088845791968"
     },
     "user_tz": -540
    },
    "id": "AvVlWbBPNkP4",
    "outputId": "a962519a-5b9d-4d67-d3d3-bbf0a3f61e74"
   },
   "outputs": [
    {
     "name": "stderr",
     "output_type": "stream",
     "text": [
      "YOLOv5 🚀 v7.0-362-ge8a30cf8 Python-3.10.12 torch-2.4.0+cu121 CPU\n",
      "\n",
      "Fusing layers... \n",
      "YOLOv5s summary: 157 layers, 7012822 parameters, 0 gradients, 15.8 GFLOPs\n",
      "Adding AutoShape... \n"
     ]
    }
   ],
   "source": [
    "# 학습한 모델 불러오기\n",
    "model = torch.hub.load('yolov5', 'custom', path='yolov5/runs/train/yolov5s_results4/weights/best.pt', source='local')\n",
    "model.conf = 0.5"
   ]
  },
  {
   "cell_type": "code",
   "execution_count": null,
   "metadata": {
    "id": "i5eyM3jOuk22"
   },
   "outputs": [],
   "source": [
    "# 추론을 진행할 이미지 불러오기\n",
    "test_img_path = 'Enter inference image path'\n",
    "img = Image.open(test_img_path)"
   ]
  },
  {
   "cell_type": "code",
   "execution_count": null,
   "metadata": {
    "colab": {
     "base_uri": "https://localhost:8080/"
    },
    "executionInfo": {
     "elapsed": 3,
     "status": "ok",
     "timestamp": 1724894931960,
     "user": {
      "displayName": "ylee",
      "userId": "16373523088845791968"
     },
     "user_tz": -540
    },
    "id": "-XIlJ79jukZQ",
    "outputId": "c159195f-1aac-4f86-9f11-1461da283f01"
   },
   "outputs": [
    {
     "name": "stderr",
     "output_type": "stream",
     "text": [
      "/content/drive/MyDrive/comento/1/yolov5/models/common.py:892: FutureWarning: `torch.cuda.amp.autocast(args...)` is deprecated. Please use `torch.amp.autocast('cuda', args...)` instead.\n",
      "  with amp.autocast(autocast):\n"
     ]
    }
   ],
   "source": [
    "# 추론 진행\n",
    "results = model(img, size=224)"
   ]
  },
  {
   "cell_type": "code",
   "execution_count": null,
   "metadata": {
    "colab": {
     "base_uri": "https://localhost:8080/",
     "height": 693,
     "output_embedded_package_id": "1sJ04vXqtyBRZMAHWP_gerpuC1YJ20HT1"
    },
    "executionInfo": {
     "elapsed": 14847,
     "status": "ok",
     "timestamp": 1724894946805,
     "user": {
      "displayName": "ylee",
      "userId": "16373523088845791968"
     },
     "user_tz": -540
    },
    "id": "Tmd0tZarvhvQ",
    "outputId": "f04afabd-e0f4-4bf4-ac00-3cbb5225a008"
   },
   "outputs": [
    {
     "data": {
      "text/plain": [
       "Output hidden; open in https://colab.research.google.com to view."
      ]
     },
     "metadata": {},
     "output_type": "display_data"
    }
   ],
   "source": [
    "# 추론 결과 확인하기\n",
    "print(results.pandas().xyxy[0])\n",
    "\n",
    "# Save or display results\n",
    "results.show()\n",
    "plt.imshow(results.render()[0])\n",
    "plt.axis('off')\n",
    "plt.show()"
   ]
  },
  {
   "cell_type": "code",
   "execution_count": null,
   "metadata": {
    "id": "kybEjbuEwI7l"
   },
   "outputs": [],
   "source": []
  }
 ],
 "metadata": {
  "accelerator": "GPU",
  "colab": {
   "authorship_tag": "ABX9TyNU5RjuvPFghE5JlSWiXW2f",
   "gpuType": "T4",
   "mount_file_id": "1uhGmgHzW2QT6JlHPqCuMJRMLbYLWHdxF",
   "provenance": []
  },
  "kernelspec": {
   "display_name": "comentoenv (Jupyter)",
   "language": "python",
   "name": "comentoenv"
  },
  "language_info": {
   "codemirror_mode": {
    "name": "ipython",
    "version": 3
   },
   "file_extension": ".py",
   "mimetype": "text/x-python",
   "name": "python",
   "nbconvert_exporter": "python",
   "pygments_lexer": "ipython3",
   "version": "3.12.9"
  }
 },
 "nbformat": 4,
 "nbformat_minor": 4
}
